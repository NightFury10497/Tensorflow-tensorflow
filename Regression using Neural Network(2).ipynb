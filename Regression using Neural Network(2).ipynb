{
 "cells": [
  {
   "cell_type": "code",
   "execution_count": 1,
   "metadata": {
    "collapsed": true
   },
   "outputs": [],
   "source": [
    "##Regression using Tensorflow"
   ]
  },
  {
   "cell_type": "code",
   "execution_count": 1,
   "metadata": {
    "collapsed": true
   },
   "outputs": [],
   "source": [
    "import tensorflow as tf\n",
    "import numpy as np\n",
    "import pandas as pd\n",
    "import matplotlib.pyplot as plt\n",
    "%matplotlib inline"
   ]
  },
  {
   "cell_type": "code",
   "execution_count": 3,
   "metadata": {},
   "outputs": [],
   "source": [
    "x_data=np.linspace(0.0,10.0,1000000)"
   ]
  },
  {
   "cell_type": "code",
   "execution_count": 4,
   "metadata": {
    "collapsed": true
   },
   "outputs": [],
   "source": [
    "noise=np.random.randn(len(x_data))"
   ]
  },
  {
   "cell_type": "code",
   "execution_count": 5,
   "metadata": {},
   "outputs": [
    {
     "data": {
      "text/plain": [
       "array([-1.29379356,  1.0034917 ,  0.13097159, ...,  0.65754369,\n",
       "       -1.70974057, -0.4111024 ])"
      ]
     },
     "execution_count": 5,
     "metadata": {},
     "output_type": "execute_result"
    }
   ],
   "source": [
    "noise"
   ]
  },
  {
   "cell_type": "code",
   "execution_count": 6,
   "metadata": {
    "collapsed": true
   },
   "outputs": [],
   "source": [
    "##y= mx + b\n",
    "##b=5\n"
   ]
  },
  {
   "cell_type": "code",
   "execution_count": 7,
   "metadata": {
    "collapsed": true
   },
   "outputs": [],
   "source": [
    "y_true=(0.5*x_data) + 5 + noise"
   ]
  },
  {
   "cell_type": "code",
   "execution_count": 8,
   "metadata": {
    "collapsed": true
   },
   "outputs": [],
   "source": [
    "x_df=pd.DataFrame(data=x_data,columns=['X_Data'])"
   ]
  },
  {
   "cell_type": "code",
   "execution_count": 9,
   "metadata": {
    "collapsed": true
   },
   "outputs": [],
   "source": [
    "y_df=pd.DataFrame(data=y_true,columns=['Y'])"
   ]
  },
  {
   "cell_type": "code",
   "execution_count": 11,
   "metadata": {},
   "outputs": [
    {
     "data": {
      "text/html": [
       "<div>\n",
       "<style>\n",
       "    .dataframe thead tr:only-child th {\n",
       "        text-align: right;\n",
       "    }\n",
       "\n",
       "    .dataframe thead th {\n",
       "        text-align: left;\n",
       "    }\n",
       "\n",
       "    .dataframe tbody tr th {\n",
       "        vertical-align: top;\n",
       "    }\n",
       "</style>\n",
       "<table border=\"1\" class=\"dataframe\">\n",
       "  <thead>\n",
       "    <tr style=\"text-align: right;\">\n",
       "      <th></th>\n",
       "      <th>X_Data</th>\n",
       "    </tr>\n",
       "  </thead>\n",
       "  <tbody>\n",
       "    <tr>\n",
       "      <th>0</th>\n",
       "      <td>0.00000</td>\n",
       "    </tr>\n",
       "    <tr>\n",
       "      <th>1</th>\n",
       "      <td>0.00001</td>\n",
       "    </tr>\n",
       "    <tr>\n",
       "      <th>2</th>\n",
       "      <td>0.00002</td>\n",
       "    </tr>\n",
       "    <tr>\n",
       "      <th>3</th>\n",
       "      <td>0.00003</td>\n",
       "    </tr>\n",
       "    <tr>\n",
       "      <th>4</th>\n",
       "      <td>0.00004</td>\n",
       "    </tr>\n",
       "  </tbody>\n",
       "</table>\n",
       "</div>"
      ],
      "text/plain": [
       "    X_Data\n",
       "0  0.00000\n",
       "1  0.00001\n",
       "2  0.00002\n",
       "3  0.00003\n",
       "4  0.00004"
      ]
     },
     "execution_count": 11,
     "metadata": {},
     "output_type": "execute_result"
    }
   ],
   "source": [
    "x_df.head()"
   ]
  },
  {
   "cell_type": "code",
   "execution_count": 10,
   "metadata": {},
   "outputs": [
    {
     "data": {
      "text/html": [
       "<div>\n",
       "<style>\n",
       "    .dataframe thead tr:only-child th {\n",
       "        text-align: right;\n",
       "    }\n",
       "\n",
       "    .dataframe thead th {\n",
       "        text-align: left;\n",
       "    }\n",
       "\n",
       "    .dataframe tbody tr th {\n",
       "        vertical-align: top;\n",
       "    }\n",
       "</style>\n",
       "<table border=\"1\" class=\"dataframe\">\n",
       "  <thead>\n",
       "    <tr style=\"text-align: right;\">\n",
       "      <th></th>\n",
       "      <th>Y</th>\n",
       "    </tr>\n",
       "  </thead>\n",
       "  <tbody>\n",
       "    <tr>\n",
       "      <th>0</th>\n",
       "      <td>3.706206</td>\n",
       "    </tr>\n",
       "    <tr>\n",
       "      <th>1</th>\n",
       "      <td>6.003497</td>\n",
       "    </tr>\n",
       "    <tr>\n",
       "      <th>2</th>\n",
       "      <td>5.130982</td>\n",
       "    </tr>\n",
       "    <tr>\n",
       "      <th>3</th>\n",
       "      <td>3.724849</td>\n",
       "    </tr>\n",
       "    <tr>\n",
       "      <th>4</th>\n",
       "      <td>4.129314</td>\n",
       "    </tr>\n",
       "  </tbody>\n",
       "</table>\n",
       "</div>"
      ],
      "text/plain": [
       "          Y\n",
       "0  3.706206\n",
       "1  6.003497\n",
       "2  5.130982\n",
       "3  3.724849\n",
       "4  4.129314"
      ]
     },
     "execution_count": 10,
     "metadata": {},
     "output_type": "execute_result"
    }
   ],
   "source": [
    "y_df.head()"
   ]
  },
  {
   "cell_type": "code",
   "execution_count": 12,
   "metadata": {
    "collapsed": true
   },
   "outputs": [],
   "source": [
    "my_data=pd.concat([x_df,y_df],axis=1)"
   ]
  },
  {
   "cell_type": "code",
   "execution_count": 13,
   "metadata": {},
   "outputs": [
    {
     "data": {
      "text/html": [
       "<div>\n",
       "<style>\n",
       "    .dataframe thead tr:only-child th {\n",
       "        text-align: right;\n",
       "    }\n",
       "\n",
       "    .dataframe thead th {\n",
       "        text-align: left;\n",
       "    }\n",
       "\n",
       "    .dataframe tbody tr th {\n",
       "        vertical-align: top;\n",
       "    }\n",
       "</style>\n",
       "<table border=\"1\" class=\"dataframe\">\n",
       "  <thead>\n",
       "    <tr style=\"text-align: right;\">\n",
       "      <th></th>\n",
       "      <th>X_Data</th>\n",
       "      <th>Y</th>\n",
       "    </tr>\n",
       "  </thead>\n",
       "  <tbody>\n",
       "    <tr>\n",
       "      <th>0</th>\n",
       "      <td>0.00000</td>\n",
       "      <td>3.706206</td>\n",
       "    </tr>\n",
       "    <tr>\n",
       "      <th>1</th>\n",
       "      <td>0.00001</td>\n",
       "      <td>6.003497</td>\n",
       "    </tr>\n",
       "    <tr>\n",
       "      <th>2</th>\n",
       "      <td>0.00002</td>\n",
       "      <td>5.130982</td>\n",
       "    </tr>\n",
       "    <tr>\n",
       "      <th>3</th>\n",
       "      <td>0.00003</td>\n",
       "      <td>3.724849</td>\n",
       "    </tr>\n",
       "    <tr>\n",
       "      <th>4</th>\n",
       "      <td>0.00004</td>\n",
       "      <td>4.129314</td>\n",
       "    </tr>\n",
       "    <tr>\n",
       "      <th>5</th>\n",
       "      <td>0.00005</td>\n",
       "      <td>4.474031</td>\n",
       "    </tr>\n",
       "    <tr>\n",
       "      <th>6</th>\n",
       "      <td>0.00006</td>\n",
       "      <td>4.501261</td>\n",
       "    </tr>\n",
       "    <tr>\n",
       "      <th>7</th>\n",
       "      <td>0.00007</td>\n",
       "      <td>3.441745</td>\n",
       "    </tr>\n",
       "    <tr>\n",
       "      <th>8</th>\n",
       "      <td>0.00008</td>\n",
       "      <td>2.918131</td>\n",
       "    </tr>\n",
       "    <tr>\n",
       "      <th>9</th>\n",
       "      <td>0.00009</td>\n",
       "      <td>5.123145</td>\n",
       "    </tr>\n",
       "    <tr>\n",
       "      <th>10</th>\n",
       "      <td>0.00010</td>\n",
       "      <td>5.014430</td>\n",
       "    </tr>\n",
       "    <tr>\n",
       "      <th>11</th>\n",
       "      <td>0.00011</td>\n",
       "      <td>5.775600</td>\n",
       "    </tr>\n",
       "    <tr>\n",
       "      <th>12</th>\n",
       "      <td>0.00012</td>\n",
       "      <td>4.240011</td>\n",
       "    </tr>\n",
       "    <tr>\n",
       "      <th>13</th>\n",
       "      <td>0.00013</td>\n",
       "      <td>7.528488</td>\n",
       "    </tr>\n",
       "    <tr>\n",
       "      <th>14</th>\n",
       "      <td>0.00014</td>\n",
       "      <td>4.974092</td>\n",
       "    </tr>\n",
       "    <tr>\n",
       "      <th>15</th>\n",
       "      <td>0.00015</td>\n",
       "      <td>5.638494</td>\n",
       "    </tr>\n",
       "    <tr>\n",
       "      <th>16</th>\n",
       "      <td>0.00016</td>\n",
       "      <td>6.065921</td>\n",
       "    </tr>\n",
       "    <tr>\n",
       "      <th>17</th>\n",
       "      <td>0.00017</td>\n",
       "      <td>4.869810</td>\n",
       "    </tr>\n",
       "    <tr>\n",
       "      <th>18</th>\n",
       "      <td>0.00018</td>\n",
       "      <td>4.921951</td>\n",
       "    </tr>\n",
       "    <tr>\n",
       "      <th>19</th>\n",
       "      <td>0.00019</td>\n",
       "      <td>5.882118</td>\n",
       "    </tr>\n",
       "    <tr>\n",
       "      <th>20</th>\n",
       "      <td>0.00020</td>\n",
       "      <td>5.694317</td>\n",
       "    </tr>\n",
       "    <tr>\n",
       "      <th>21</th>\n",
       "      <td>0.00021</td>\n",
       "      <td>4.982584</td>\n",
       "    </tr>\n",
       "    <tr>\n",
       "      <th>22</th>\n",
       "      <td>0.00022</td>\n",
       "      <td>4.846814</td>\n",
       "    </tr>\n",
       "    <tr>\n",
       "      <th>23</th>\n",
       "      <td>0.00023</td>\n",
       "      <td>4.894436</td>\n",
       "    </tr>\n",
       "    <tr>\n",
       "      <th>24</th>\n",
       "      <td>0.00024</td>\n",
       "      <td>7.801327</td>\n",
       "    </tr>\n",
       "    <tr>\n",
       "      <th>25</th>\n",
       "      <td>0.00025</td>\n",
       "      <td>4.305777</td>\n",
       "    </tr>\n",
       "    <tr>\n",
       "      <th>26</th>\n",
       "      <td>0.00026</td>\n",
       "      <td>5.045066</td>\n",
       "    </tr>\n",
       "    <tr>\n",
       "      <th>27</th>\n",
       "      <td>0.00027</td>\n",
       "      <td>5.207996</td>\n",
       "    </tr>\n",
       "    <tr>\n",
       "      <th>28</th>\n",
       "      <td>0.00028</td>\n",
       "      <td>5.235783</td>\n",
       "    </tr>\n",
       "    <tr>\n",
       "      <th>29</th>\n",
       "      <td>0.00029</td>\n",
       "      <td>5.103808</td>\n",
       "    </tr>\n",
       "    <tr>\n",
       "      <th>...</th>\n",
       "      <td>...</td>\n",
       "      <td>...</td>\n",
       "    </tr>\n",
       "    <tr>\n",
       "      <th>999970</th>\n",
       "      <td>9.99971</td>\n",
       "      <td>10.965375</td>\n",
       "    </tr>\n",
       "    <tr>\n",
       "      <th>999971</th>\n",
       "      <td>9.99972</td>\n",
       "      <td>9.670735</td>\n",
       "    </tr>\n",
       "    <tr>\n",
       "      <th>999972</th>\n",
       "      <td>9.99973</td>\n",
       "      <td>9.815348</td>\n",
       "    </tr>\n",
       "    <tr>\n",
       "      <th>999973</th>\n",
       "      <td>9.99974</td>\n",
       "      <td>11.484030</td>\n",
       "    </tr>\n",
       "    <tr>\n",
       "      <th>999974</th>\n",
       "      <td>9.99975</td>\n",
       "      <td>8.644968</td>\n",
       "    </tr>\n",
       "    <tr>\n",
       "      <th>999975</th>\n",
       "      <td>9.99976</td>\n",
       "      <td>9.081625</td>\n",
       "    </tr>\n",
       "    <tr>\n",
       "      <th>999976</th>\n",
       "      <td>9.99977</td>\n",
       "      <td>7.603127</td>\n",
       "    </tr>\n",
       "    <tr>\n",
       "      <th>999977</th>\n",
       "      <td>9.99978</td>\n",
       "      <td>9.708315</td>\n",
       "    </tr>\n",
       "    <tr>\n",
       "      <th>999978</th>\n",
       "      <td>9.99979</td>\n",
       "      <td>9.896363</td>\n",
       "    </tr>\n",
       "    <tr>\n",
       "      <th>999979</th>\n",
       "      <td>9.99980</td>\n",
       "      <td>11.262917</td>\n",
       "    </tr>\n",
       "    <tr>\n",
       "      <th>999980</th>\n",
       "      <td>9.99981</td>\n",
       "      <td>10.470924</td>\n",
       "    </tr>\n",
       "    <tr>\n",
       "      <th>999981</th>\n",
       "      <td>9.99982</td>\n",
       "      <td>10.604330</td>\n",
       "    </tr>\n",
       "    <tr>\n",
       "      <th>999982</th>\n",
       "      <td>9.99983</td>\n",
       "      <td>10.056072</td>\n",
       "    </tr>\n",
       "    <tr>\n",
       "      <th>999983</th>\n",
       "      <td>9.99984</td>\n",
       "      <td>9.614631</td>\n",
       "    </tr>\n",
       "    <tr>\n",
       "      <th>999984</th>\n",
       "      <td>9.99985</td>\n",
       "      <td>10.302244</td>\n",
       "    </tr>\n",
       "    <tr>\n",
       "      <th>999985</th>\n",
       "      <td>9.99986</td>\n",
       "      <td>11.173839</td>\n",
       "    </tr>\n",
       "    <tr>\n",
       "      <th>999986</th>\n",
       "      <td>9.99987</td>\n",
       "      <td>9.888444</td>\n",
       "    </tr>\n",
       "    <tr>\n",
       "      <th>999987</th>\n",
       "      <td>9.99988</td>\n",
       "      <td>9.512479</td>\n",
       "    </tr>\n",
       "    <tr>\n",
       "      <th>999988</th>\n",
       "      <td>9.99989</td>\n",
       "      <td>8.931897</td>\n",
       "    </tr>\n",
       "    <tr>\n",
       "      <th>999989</th>\n",
       "      <td>9.99990</td>\n",
       "      <td>7.833020</td>\n",
       "    </tr>\n",
       "    <tr>\n",
       "      <th>999990</th>\n",
       "      <td>9.99991</td>\n",
       "      <td>9.356243</td>\n",
       "    </tr>\n",
       "    <tr>\n",
       "      <th>999991</th>\n",
       "      <td>9.99992</td>\n",
       "      <td>10.397631</td>\n",
       "    </tr>\n",
       "    <tr>\n",
       "      <th>999992</th>\n",
       "      <td>9.99993</td>\n",
       "      <td>9.573195</td>\n",
       "    </tr>\n",
       "    <tr>\n",
       "      <th>999993</th>\n",
       "      <td>9.99994</td>\n",
       "      <td>9.364490</td>\n",
       "    </tr>\n",
       "    <tr>\n",
       "      <th>999994</th>\n",
       "      <td>9.99995</td>\n",
       "      <td>11.434420</td>\n",
       "    </tr>\n",
       "    <tr>\n",
       "      <th>999995</th>\n",
       "      <td>9.99996</td>\n",
       "      <td>8.374662</td>\n",
       "    </tr>\n",
       "    <tr>\n",
       "      <th>999996</th>\n",
       "      <td>9.99997</td>\n",
       "      <td>11.243474</td>\n",
       "    </tr>\n",
       "    <tr>\n",
       "      <th>999997</th>\n",
       "      <td>9.99998</td>\n",
       "      <td>10.657534</td>\n",
       "    </tr>\n",
       "    <tr>\n",
       "      <th>999998</th>\n",
       "      <td>9.99999</td>\n",
       "      <td>8.290254</td>\n",
       "    </tr>\n",
       "    <tr>\n",
       "      <th>999999</th>\n",
       "      <td>10.00000</td>\n",
       "      <td>9.588898</td>\n",
       "    </tr>\n",
       "  </tbody>\n",
       "</table>\n",
       "<p>1000000 rows × 2 columns</p>\n",
       "</div>"
      ],
      "text/plain": [
       "          X_Data          Y\n",
       "0        0.00000   3.706206\n",
       "1        0.00001   6.003497\n",
       "2        0.00002   5.130982\n",
       "3        0.00003   3.724849\n",
       "4        0.00004   4.129314\n",
       "5        0.00005   4.474031\n",
       "6        0.00006   4.501261\n",
       "7        0.00007   3.441745\n",
       "8        0.00008   2.918131\n",
       "9        0.00009   5.123145\n",
       "10       0.00010   5.014430\n",
       "11       0.00011   5.775600\n",
       "12       0.00012   4.240011\n",
       "13       0.00013   7.528488\n",
       "14       0.00014   4.974092\n",
       "15       0.00015   5.638494\n",
       "16       0.00016   6.065921\n",
       "17       0.00017   4.869810\n",
       "18       0.00018   4.921951\n",
       "19       0.00019   5.882118\n",
       "20       0.00020   5.694317\n",
       "21       0.00021   4.982584\n",
       "22       0.00022   4.846814\n",
       "23       0.00023   4.894436\n",
       "24       0.00024   7.801327\n",
       "25       0.00025   4.305777\n",
       "26       0.00026   5.045066\n",
       "27       0.00027   5.207996\n",
       "28       0.00028   5.235783\n",
       "29       0.00029   5.103808\n",
       "...          ...        ...\n",
       "999970   9.99971  10.965375\n",
       "999971   9.99972   9.670735\n",
       "999972   9.99973   9.815348\n",
       "999973   9.99974  11.484030\n",
       "999974   9.99975   8.644968\n",
       "999975   9.99976   9.081625\n",
       "999976   9.99977   7.603127\n",
       "999977   9.99978   9.708315\n",
       "999978   9.99979   9.896363\n",
       "999979   9.99980  11.262917\n",
       "999980   9.99981  10.470924\n",
       "999981   9.99982  10.604330\n",
       "999982   9.99983  10.056072\n",
       "999983   9.99984   9.614631\n",
       "999984   9.99985  10.302244\n",
       "999985   9.99986  11.173839\n",
       "999986   9.99987   9.888444\n",
       "999987   9.99988   9.512479\n",
       "999988   9.99989   8.931897\n",
       "999989   9.99990   7.833020\n",
       "999990   9.99991   9.356243\n",
       "999991   9.99992  10.397631\n",
       "999992   9.99993   9.573195\n",
       "999993   9.99994   9.364490\n",
       "999994   9.99995  11.434420\n",
       "999995   9.99996   8.374662\n",
       "999996   9.99997  11.243474\n",
       "999997   9.99998  10.657534\n",
       "999998   9.99999   8.290254\n",
       "999999  10.00000   9.588898\n",
       "\n",
       "[1000000 rows x 2 columns]"
      ]
     },
     "execution_count": 13,
     "metadata": {},
     "output_type": "execute_result"
    }
   ],
   "source": [
    "my_data"
   ]
  },
  {
   "cell_type": "code",
   "execution_count": 14,
   "metadata": {},
   "outputs": [
    {
     "data": {
      "text/html": [
       "<div>\n",
       "<style>\n",
       "    .dataframe thead tr:only-child th {\n",
       "        text-align: right;\n",
       "    }\n",
       "\n",
       "    .dataframe thead th {\n",
       "        text-align: left;\n",
       "    }\n",
       "\n",
       "    .dataframe tbody tr th {\n",
       "        vertical-align: top;\n",
       "    }\n",
       "</style>\n",
       "<table border=\"1\" class=\"dataframe\">\n",
       "  <thead>\n",
       "    <tr style=\"text-align: right;\">\n",
       "      <th></th>\n",
       "      <th>X_Data</th>\n",
       "      <th>Y</th>\n",
       "    </tr>\n",
       "  </thead>\n",
       "  <tbody>\n",
       "    <tr>\n",
       "      <th>0</th>\n",
       "      <td>0.00000</td>\n",
       "      <td>3.706206</td>\n",
       "    </tr>\n",
       "    <tr>\n",
       "      <th>1</th>\n",
       "      <td>0.00001</td>\n",
       "      <td>6.003497</td>\n",
       "    </tr>\n",
       "    <tr>\n",
       "      <th>2</th>\n",
       "      <td>0.00002</td>\n",
       "      <td>5.130982</td>\n",
       "    </tr>\n",
       "    <tr>\n",
       "      <th>3</th>\n",
       "      <td>0.00003</td>\n",
       "      <td>3.724849</td>\n",
       "    </tr>\n",
       "    <tr>\n",
       "      <th>4</th>\n",
       "      <td>0.00004</td>\n",
       "      <td>4.129314</td>\n",
       "    </tr>\n",
       "  </tbody>\n",
       "</table>\n",
       "</div>"
      ],
      "text/plain": [
       "    X_Data         Y\n",
       "0  0.00000  3.706206\n",
       "1  0.00001  6.003497\n",
       "2  0.00002  5.130982\n",
       "3  0.00003  3.724849\n",
       "4  0.00004  4.129314"
      ]
     },
     "execution_count": 14,
     "metadata": {},
     "output_type": "execute_result"
    }
   ],
   "source": [
    "my_data.head()"
   ]
  },
  {
   "cell_type": "code",
   "execution_count": 15,
   "metadata": {},
   "outputs": [
    {
     "data": {
      "text/html": [
       "<div>\n",
       "<style>\n",
       "    .dataframe thead tr:only-child th {\n",
       "        text-align: right;\n",
       "    }\n",
       "\n",
       "    .dataframe thead th {\n",
       "        text-align: left;\n",
       "    }\n",
       "\n",
       "    .dataframe tbody tr th {\n",
       "        vertical-align: top;\n",
       "    }\n",
       "</style>\n",
       "<table border=\"1\" class=\"dataframe\">\n",
       "  <thead>\n",
       "    <tr style=\"text-align: right;\">\n",
       "      <th></th>\n",
       "      <th>X_Data</th>\n",
       "      <th>Y</th>\n",
       "    </tr>\n",
       "  </thead>\n",
       "  <tbody>\n",
       "    <tr>\n",
       "      <th>573113</th>\n",
       "      <td>5.731136</td>\n",
       "      <td>7.610072</td>\n",
       "    </tr>\n",
       "    <tr>\n",
       "      <th>282452</th>\n",
       "      <td>2.824523</td>\n",
       "      <td>7.871325</td>\n",
       "    </tr>\n",
       "    <tr>\n",
       "      <th>204946</th>\n",
       "      <td>2.049462</td>\n",
       "      <td>5.982854</td>\n",
       "    </tr>\n",
       "    <tr>\n",
       "      <th>301416</th>\n",
       "      <td>3.014163</td>\n",
       "      <td>7.496245</td>\n",
       "    </tr>\n",
       "    <tr>\n",
       "      <th>787411</th>\n",
       "      <td>7.874118</td>\n",
       "      <td>9.489891</td>\n",
       "    </tr>\n",
       "    <tr>\n",
       "      <th>36070</th>\n",
       "      <td>0.360700</td>\n",
       "      <td>5.456579</td>\n",
       "    </tr>\n",
       "    <tr>\n",
       "      <th>519840</th>\n",
       "      <td>5.198405</td>\n",
       "      <td>7.658726</td>\n",
       "    </tr>\n",
       "    <tr>\n",
       "      <th>36645</th>\n",
       "      <td>0.366450</td>\n",
       "      <td>3.404004</td>\n",
       "    </tr>\n",
       "    <tr>\n",
       "      <th>227081</th>\n",
       "      <td>2.270812</td>\n",
       "      <td>5.089859</td>\n",
       "    </tr>\n",
       "    <tr>\n",
       "      <th>454959</th>\n",
       "      <td>4.549595</td>\n",
       "      <td>8.476775</td>\n",
       "    </tr>\n",
       "    <tr>\n",
       "      <th>759911</th>\n",
       "      <td>7.599118</td>\n",
       "      <td>8.973704</td>\n",
       "    </tr>\n",
       "    <tr>\n",
       "      <th>917867</th>\n",
       "      <td>9.178679</td>\n",
       "      <td>9.321611</td>\n",
       "    </tr>\n",
       "    <tr>\n",
       "      <th>256557</th>\n",
       "      <td>2.565573</td>\n",
       "      <td>5.948775</td>\n",
       "    </tr>\n",
       "    <tr>\n",
       "      <th>85009</th>\n",
       "      <td>0.850091</td>\n",
       "      <td>7.128250</td>\n",
       "    </tr>\n",
       "    <tr>\n",
       "      <th>275772</th>\n",
       "      <td>2.757723</td>\n",
       "      <td>6.671755</td>\n",
       "    </tr>\n",
       "    <tr>\n",
       "      <th>761391</th>\n",
       "      <td>7.613918</td>\n",
       "      <td>8.651035</td>\n",
       "    </tr>\n",
       "    <tr>\n",
       "      <th>276443</th>\n",
       "      <td>2.764433</td>\n",
       "      <td>5.406408</td>\n",
       "    </tr>\n",
       "    <tr>\n",
       "      <th>484396</th>\n",
       "      <td>4.843965</td>\n",
       "      <td>7.831470</td>\n",
       "    </tr>\n",
       "    <tr>\n",
       "      <th>566505</th>\n",
       "      <td>5.665056</td>\n",
       "      <td>8.415357</td>\n",
       "    </tr>\n",
       "    <tr>\n",
       "      <th>120756</th>\n",
       "      <td>1.207561</td>\n",
       "      <td>5.177242</td>\n",
       "    </tr>\n",
       "    <tr>\n",
       "      <th>464397</th>\n",
       "      <td>4.643975</td>\n",
       "      <td>7.624457</td>\n",
       "    </tr>\n",
       "    <tr>\n",
       "      <th>155225</th>\n",
       "      <td>1.552252</td>\n",
       "      <td>6.639191</td>\n",
       "    </tr>\n",
       "    <tr>\n",
       "      <th>422499</th>\n",
       "      <td>4.224994</td>\n",
       "      <td>7.653132</td>\n",
       "    </tr>\n",
       "    <tr>\n",
       "      <th>649111</th>\n",
       "      <td>6.491116</td>\n",
       "      <td>7.150320</td>\n",
       "    </tr>\n",
       "    <tr>\n",
       "      <th>879734</th>\n",
       "      <td>8.797349</td>\n",
       "      <td>9.329425</td>\n",
       "    </tr>\n",
       "    <tr>\n",
       "      <th>727499</th>\n",
       "      <td>7.274997</td>\n",
       "      <td>7.362505</td>\n",
       "    </tr>\n",
       "    <tr>\n",
       "      <th>124349</th>\n",
       "      <td>1.243491</td>\n",
       "      <td>4.684460</td>\n",
       "    </tr>\n",
       "    <tr>\n",
       "      <th>636737</th>\n",
       "      <td>6.367376</td>\n",
       "      <td>6.457902</td>\n",
       "    </tr>\n",
       "    <tr>\n",
       "      <th>729397</th>\n",
       "      <td>7.293977</td>\n",
       "      <td>8.887552</td>\n",
       "    </tr>\n",
       "    <tr>\n",
       "      <th>351956</th>\n",
       "      <td>3.519564</td>\n",
       "      <td>5.702275</td>\n",
       "    </tr>\n",
       "    <tr>\n",
       "      <th>...</th>\n",
       "      <td>...</td>\n",
       "      <td>...</td>\n",
       "    </tr>\n",
       "    <tr>\n",
       "      <th>871917</th>\n",
       "      <td>8.719179</td>\n",
       "      <td>9.018904</td>\n",
       "    </tr>\n",
       "    <tr>\n",
       "      <th>441449</th>\n",
       "      <td>4.414494</td>\n",
       "      <td>9.799769</td>\n",
       "    </tr>\n",
       "    <tr>\n",
       "      <th>893199</th>\n",
       "      <td>8.931999</td>\n",
       "      <td>9.083537</td>\n",
       "    </tr>\n",
       "    <tr>\n",
       "      <th>810415</th>\n",
       "      <td>8.104158</td>\n",
       "      <td>8.726448</td>\n",
       "    </tr>\n",
       "    <tr>\n",
       "      <th>20262</th>\n",
       "      <td>0.202620</td>\n",
       "      <td>4.645711</td>\n",
       "    </tr>\n",
       "    <tr>\n",
       "      <th>204066</th>\n",
       "      <td>2.040662</td>\n",
       "      <td>7.064533</td>\n",
       "    </tr>\n",
       "    <tr>\n",
       "      <th>521231</th>\n",
       "      <td>5.212315</td>\n",
       "      <td>7.509314</td>\n",
       "    </tr>\n",
       "    <tr>\n",
       "      <th>353294</th>\n",
       "      <td>3.532944</td>\n",
       "      <td>5.323379</td>\n",
       "    </tr>\n",
       "    <tr>\n",
       "      <th>427401</th>\n",
       "      <td>4.274014</td>\n",
       "      <td>7.249415</td>\n",
       "    </tr>\n",
       "    <tr>\n",
       "      <th>239249</th>\n",
       "      <td>2.392492</td>\n",
       "      <td>6.362992</td>\n",
       "    </tr>\n",
       "    <tr>\n",
       "      <th>748280</th>\n",
       "      <td>7.482807</td>\n",
       "      <td>9.887407</td>\n",
       "    </tr>\n",
       "    <tr>\n",
       "      <th>42498</th>\n",
       "      <td>0.424980</td>\n",
       "      <td>7.290594</td>\n",
       "    </tr>\n",
       "    <tr>\n",
       "      <th>745273</th>\n",
       "      <td>7.452737</td>\n",
       "      <td>8.390768</td>\n",
       "    </tr>\n",
       "    <tr>\n",
       "      <th>888802</th>\n",
       "      <td>8.888029</td>\n",
       "      <td>8.573491</td>\n",
       "    </tr>\n",
       "    <tr>\n",
       "      <th>816752</th>\n",
       "      <td>8.167528</td>\n",
       "      <td>8.317479</td>\n",
       "    </tr>\n",
       "    <tr>\n",
       "      <th>977876</th>\n",
       "      <td>9.778770</td>\n",
       "      <td>10.168952</td>\n",
       "    </tr>\n",
       "    <tr>\n",
       "      <th>270542</th>\n",
       "      <td>2.705423</td>\n",
       "      <td>3.918390</td>\n",
       "    </tr>\n",
       "    <tr>\n",
       "      <th>396353</th>\n",
       "      <td>3.963534</td>\n",
       "      <td>7.816135</td>\n",
       "    </tr>\n",
       "    <tr>\n",
       "      <th>181683</th>\n",
       "      <td>1.816832</td>\n",
       "      <td>4.479938</td>\n",
       "    </tr>\n",
       "    <tr>\n",
       "      <th>270114</th>\n",
       "      <td>2.701143</td>\n",
       "      <td>5.633255</td>\n",
       "    </tr>\n",
       "    <tr>\n",
       "      <th>74140</th>\n",
       "      <td>0.741401</td>\n",
       "      <td>5.617228</td>\n",
       "    </tr>\n",
       "    <tr>\n",
       "      <th>191860</th>\n",
       "      <td>1.918602</td>\n",
       "      <td>4.502444</td>\n",
       "    </tr>\n",
       "    <tr>\n",
       "      <th>234932</th>\n",
       "      <td>2.349322</td>\n",
       "      <td>6.412503</td>\n",
       "    </tr>\n",
       "    <tr>\n",
       "      <th>61188</th>\n",
       "      <td>0.611881</td>\n",
       "      <td>6.160219</td>\n",
       "    </tr>\n",
       "    <tr>\n",
       "      <th>527997</th>\n",
       "      <td>5.279975</td>\n",
       "      <td>5.912455</td>\n",
       "    </tr>\n",
       "    <tr>\n",
       "      <th>646366</th>\n",
       "      <td>6.463666</td>\n",
       "      <td>9.543190</td>\n",
       "    </tr>\n",
       "    <tr>\n",
       "      <th>895816</th>\n",
       "      <td>8.958169</td>\n",
       "      <td>8.042972</td>\n",
       "    </tr>\n",
       "    <tr>\n",
       "      <th>496327</th>\n",
       "      <td>4.963275</td>\n",
       "      <td>6.073364</td>\n",
       "    </tr>\n",
       "    <tr>\n",
       "      <th>525981</th>\n",
       "      <td>5.259815</td>\n",
       "      <td>5.436644</td>\n",
       "    </tr>\n",
       "    <tr>\n",
       "      <th>110599</th>\n",
       "      <td>1.105991</td>\n",
       "      <td>5.714379</td>\n",
       "    </tr>\n",
       "  </tbody>\n",
       "</table>\n",
       "<p>250 rows × 2 columns</p>\n",
       "</div>"
      ],
      "text/plain": [
       "          X_Data          Y\n",
       "573113  5.731136   7.610072\n",
       "282452  2.824523   7.871325\n",
       "204946  2.049462   5.982854\n",
       "301416  3.014163   7.496245\n",
       "787411  7.874118   9.489891\n",
       "36070   0.360700   5.456579\n",
       "519840  5.198405   7.658726\n",
       "36645   0.366450   3.404004\n",
       "227081  2.270812   5.089859\n",
       "454959  4.549595   8.476775\n",
       "759911  7.599118   8.973704\n",
       "917867  9.178679   9.321611\n",
       "256557  2.565573   5.948775\n",
       "85009   0.850091   7.128250\n",
       "275772  2.757723   6.671755\n",
       "761391  7.613918   8.651035\n",
       "276443  2.764433   5.406408\n",
       "484396  4.843965   7.831470\n",
       "566505  5.665056   8.415357\n",
       "120756  1.207561   5.177242\n",
       "464397  4.643975   7.624457\n",
       "155225  1.552252   6.639191\n",
       "422499  4.224994   7.653132\n",
       "649111  6.491116   7.150320\n",
       "879734  8.797349   9.329425\n",
       "727499  7.274997   7.362505\n",
       "124349  1.243491   4.684460\n",
       "636737  6.367376   6.457902\n",
       "729397  7.293977   8.887552\n",
       "351956  3.519564   5.702275\n",
       "...          ...        ...\n",
       "871917  8.719179   9.018904\n",
       "441449  4.414494   9.799769\n",
       "893199  8.931999   9.083537\n",
       "810415  8.104158   8.726448\n",
       "20262   0.202620   4.645711\n",
       "204066  2.040662   7.064533\n",
       "521231  5.212315   7.509314\n",
       "353294  3.532944   5.323379\n",
       "427401  4.274014   7.249415\n",
       "239249  2.392492   6.362992\n",
       "748280  7.482807   9.887407\n",
       "42498   0.424980   7.290594\n",
       "745273  7.452737   8.390768\n",
       "888802  8.888029   8.573491\n",
       "816752  8.167528   8.317479\n",
       "977876  9.778770  10.168952\n",
       "270542  2.705423   3.918390\n",
       "396353  3.963534   7.816135\n",
       "181683  1.816832   4.479938\n",
       "270114  2.701143   5.633255\n",
       "74140   0.741401   5.617228\n",
       "191860  1.918602   4.502444\n",
       "234932  2.349322   6.412503\n",
       "61188   0.611881   6.160219\n",
       "527997  5.279975   5.912455\n",
       "646366  6.463666   9.543190\n",
       "895816  8.958169   8.042972\n",
       "496327  4.963275   6.073364\n",
       "525981  5.259815   5.436644\n",
       "110599  1.105991   5.714379\n",
       "\n",
       "[250 rows x 2 columns]"
      ]
     },
     "execution_count": 15,
     "metadata": {},
     "output_type": "execute_result"
    }
   ],
   "source": [
    "my_data.sample(n=250)"
   ]
  },
  {
   "cell_type": "code",
   "execution_count": 16,
   "metadata": {},
   "outputs": [
    {
     "data": {
      "text/plain": [
       "<matplotlib.axes._subplots.AxesSubplot at 0x18af4f426d8>"
      ]
     },
     "execution_count": 16,
     "metadata": {},
     "output_type": "execute_result"
    },
    {
     "data": {
      "image/png": "[encoded data removed]",
      "text/plain": [
       "<matplotlib.figure.Figure at 0x18af4da9400>"
      ]
     },
     "metadata": {},
     "output_type": "display_data"
    }
   ],
   "source": [
    "my_data.sample(n=250).plot(kind='Scatter',x='X_Data',y='Y')"
   ]
  },
  {
   "cell_type": "code",
   "execution_count": 17,
   "metadata": {
    "collapsed": true
   },
   "outputs": [],
   "source": [
    "#batch_size=10\n",
    "#batch_size=12\n",
    "batch_size=8\n"
   ]
  },
  {
   "cell_type": "code",
   "execution_count": 18,
   "metadata": {},
   "outputs": [
    {
     "data": {
      "text/plain": [
       "array([ 0.57659535, -0.53571234])"
      ]
     },
     "execution_count": 18,
     "metadata": {},
     "output_type": "execute_result"
    }
   ],
   "source": [
    "np.random.randn(2)"
   ]
  },
  {
   "cell_type": "code",
   "execution_count": 19,
   "metadata": {
    "collapsed": true
   },
   "outputs": [],
   "source": [
    "#slope\n",
    "m = tf.Variable(0.57)\n",
    "b = tf.Variable(0.53)"
   ]
  },
  {
   "cell_type": "code",
   "execution_count": 20,
   "metadata": {
    "collapsed": true
   },
   "outputs": [],
   "source": [
    "xph = tf.placeholder(tf.float32,[batch_size])"
   ]
  },
  {
   "cell_type": "code",
   "execution_count": 21,
   "metadata": {
    "collapsed": true
   },
   "outputs": [],
   "source": [
    "yph = tf.placeholder(tf.float32,[batch_size])"
   ]
  },
  {
   "cell_type": "code",
   "execution_count": 23,
   "metadata": {
    "collapsed": true
   },
   "outputs": [],
   "source": [
    "#y_model <-- model\n",
    "#m * xph + b <-- slope\n",
    "y_model = m * xph + b"
   ]
  },
  {
   "cell_type": "code",
   "execution_count": 26,
   "metadata": {
    "collapsed": true
   },
   "outputs": [],
   "source": [
    "#loss function\n",
    "error = tf.reduce_sum(tf.square(yph-y_model))"
   ]
  },
  {
   "cell_type": "code",
   "execution_count": 25,
   "metadata": {
    "collapsed": true
   },
   "outputs": [],
   "source": [
    "optimizer = tf.train.GradientDescentOptimizer(learning_rate=0.001)\n",
    "train=optimizer.minimize(error)"
   ]
  },
  {
   "cell_type": "code",
   "execution_count": 27,
   "metadata": {
    "collapsed": true
   },
   "outputs": [],
   "source": [
    "init = tf.global_variables_initializer()"
   ]
  },
  {
   "cell_type": "code",
   "execution_count": 64,
   "metadata": {
    "collapsed": true
   },
   "outputs": [],
   "source": [
    "#rand_ind  random index point (chooses the points from the data)\n",
    "\n",
    "with tf.Session() as sess:\n",
    "    sess.run(init)\n",
    "    \n",
    "    batches = 200\n",
    "    \n",
    "    for i in range(batches):\n",
    "        \n",
    "        rand_ind = np.random.randint(len(x_data),size=batch_size)\n",
    "        \n",
    "        feed ={xph:x_data[rand_ind],yph:y_true[rand_ind]}\n",
    "        \n",
    "        sess.run(train,feed_dict = feed)\n",
    "        \n",
    "    model_m , model_b =sess.run([m,b])\n",
    "    \n",
    "    \n",
    "    "
   ]
  },
  {
   "cell_type": "markdown",
   "metadata": {},
   "source": [
    "model_m"
   ]
  },
  {
   "cell_type": "code",
   "execution_count": 65,
   "metadata": {},
   "outputs": [
    {
     "data": {
      "text/plain": [
       "0.82175511"
      ]
     },
     "execution_count": 65,
     "metadata": {},
     "output_type": "execute_result"
    }
   ],
   "source": [
    "#slope close earlier 0.5\n",
    "model_m"
   ]
  },
  {
   "cell_type": "code",
   "execution_count": 66,
   "metadata": {},
   "outputs": [
    {
     "data": {
      "text/plain": [
       "2.9436584"
      ]
     },
     "execution_count": 66,
     "metadata": {},
     "output_type": "execute_result"
    }
   ],
   "source": [
    "#baise close to 5 \n",
    "model_b"
   ]
  },
  {
   "cell_type": "code",
   "execution_count": 68,
   "metadata": {},
   "outputs": [
    {
     "data": {
      "text/plain": [
       "2.9436584"
      ]
     },
     "execution_count": 68,
     "metadata": {},
     "output_type": "execute_result"
    }
   ],
   "source": [
    "model_b"
   ]
  },
  {
   "cell_type": "code",
   "execution_count": 70,
   "metadata": {
    "collapsed": true
   },
   "outputs": [],
   "source": [
    "\n",
    "y_hat=x_data * model_m + model_b\n"
   ]
  },
  {
   "cell_type": "code",
   "execution_count": 71,
   "metadata": {},
   "outputs": [
    {
     "data": {
      "text/plain": [
       "[<matplotlib.lines.Line2D at 0x18af67a5390>]"
      ]
     },
     "execution_count": 71,
     "metadata": {},
     "output_type": "execute_result"
    },
    {
     "data": {
      "image/png": "[encoded data removed]",
      "text/plain": [
       "<matplotlib.figure.Figure at 0x18af4e08908>"
      ]
     },
     "metadata": {},
     "output_type": "display_data"
    }
   ],
   "source": [
    "\n",
    "my_data.sample(250).plot(kind='scatter',x='X_Data',y='Y')\n",
    "plt.plot(x_data,y_hat,'r')\n"
   ]
  },
  {
   "cell_type": "code",
   "execution_count": 75,
   "metadata": {},
   "outputs": [],
   "source": [
    "## TF ESTIMATOR\n",
    "feat_cols=[tf.feature_column.numeric_column('x',shape=[1])]"
   ]
  },
  {
   "cell_type": "code",
   "execution_count": 76,
   "metadata": {},
   "outputs": [
    {
     "name": "stdout",
     "output_type": "stream",
     "text": [
      "INFO:tensorflow:Using default config.\n",
      "WARNING:tensorflow:Using temporary folder as model directory: C:\\Users\\DHRUV_~1\\AppData\\Local\\Temp\\tmpig115ssq\n",
      "INFO:tensorflow:Using config: {'_model_dir': 'C:\\\\Users\\\\DHRUV_~1\\\\AppData\\\\Local\\\\Temp\\\\tmpig115ssq', '_tf_random_seed': None, '_save_summary_steps': 100, '_save_checkpoints_steps': None, '_save_checkpoints_secs': 600, '_session_config': None, '_keep_checkpoint_max': 5, '_keep_checkpoint_every_n_hours': 10000, '_log_step_count_steps': 100, '_service': None, '_cluster_spec': <tensorflow.python.training.server_lib.ClusterSpec object at 0x0000018AF5F9E470>, '_task_type': 'worker', '_task_id': 0, '_global_id_in_cluster': 0, '_master': '', '_evaluation_master': '', '_is_chief': True, '_num_ps_replicas': 0, '_num_worker_replicas': 1}\n"
     ]
    }
   ],
   "source": [
    "estimator = tf.estimator.LinearRegressor(feature_columns=feat_cols)"
   ]
  },
  {
   "cell_type": "code",
   "execution_count": 77,
   "metadata": {
    "collapsed": true
   },
   "outputs": [],
   "source": [
    "from sklearn.model_selection import train_test_split"
   ]
  },
  {
   "cell_type": "code",
   "execution_count": 78,
   "metadata": {
    "collapsed": true
   },
   "outputs": [],
   "source": [
    "x_train,x_eval,y_train,y_eval = train_test_split(x_data,y_true,test_size=0.3,random_state=101)"
   ]
  },
  {
   "cell_type": "code",
   "execution_count": 79,
   "metadata": {},
   "outputs": [
    {
     "name": "stdout",
     "output_type": "stream",
     "text": [
      "(700000,)\n"
     ]
    }
   ],
   "source": [
    "print(x_train.shape)"
   ]
  },
  {
   "cell_type": "code",
   "execution_count": 80,
   "metadata": {},
   "outputs": [
    {
     "data": {
      "text/plain": [
       "(300000,)"
      ]
     },
     "execution_count": 80,
     "metadata": {},
     "output_type": "execute_result"
    }
   ],
   "source": [
    "x_eval.shape"
   ]
  },
  {
   "cell_type": "code",
   "execution_count": 90,
   "metadata": {},
   "outputs": [],
   "source": [
    "input_func=tf.estimator.inputs.numpy_input_fn({'x':x_train},y_train,batch_size=8,num_epochs=None,shuffle=True)"
   ]
  },
  {
   "cell_type": "code",
   "execution_count": 91,
   "metadata": {
    "collapsed": true
   },
   "outputs": [],
   "source": [
    "train_input_func=tf.estimator.inputs.numpy_input_fn({'x':x_train},y_train,batch_size=8,num_epochs=1000,shuffle=False)"
   ]
  },
  {
   "cell_type": "code",
   "execution_count": 92,
   "metadata": {
    "collapsed": true
   },
   "outputs": [],
   "source": [
    "eval_input_func=tf.estimator.inputs.numpy_input_fn({'x':x_eval},y_eval,batch_size=8,num_epochs=1000,shuffle=False)"
   ]
  },
  {
   "cell_type": "code",
   "execution_count": 93,
   "metadata": {},
   "outputs": [
    {
     "name": "stdout",
     "output_type": "stream",
     "text": [
      "INFO:tensorflow:Calling model_fn.\n",
      "INFO:tensorflow:Done calling model_fn.\n",
      "INFO:tensorflow:Create CheckpointSaverHook.\n",
      "INFO:tensorflow:Graph was finalized.\n",
      "INFO:tensorflow:Running local_init_op.\n",
      "INFO:tensorflow:Done running local_init_op.\n",
      "INFO:tensorflow:Saving checkpoints for 1 into C:\\Users\\DHRUV_~1\\AppData\\Local\\Temp\\tmpig115ssq\\model.ckpt.\n",
      "INFO:tensorflow:loss = 593.308, step = 1\n",
      "INFO:tensorflow:global_step/sec: 374.702\n",
      "INFO:tensorflow:loss = 17.5543, step = 101 (0.269 sec)\n",
      "INFO:tensorflow:global_step/sec: 444.645\n",
      "INFO:tensorflow:loss = 23.4261, step = 201 (0.226 sec)\n",
      "INFO:tensorflow:global_step/sec: 483.312\n",
      "INFO:tensorflow:loss = 14.7875, step = 301 (0.209 sec)\n",
      "INFO:tensorflow:global_step/sec: 429.379\n",
      "INFO:tensorflow:loss = 8.58851, step = 401 (0.230 sec)\n",
      "INFO:tensorflow:global_step/sec: 268.13\n",
      "INFO:tensorflow:loss = 5.42897, step = 501 (0.372 sec)\n",
      "INFO:tensorflow:global_step/sec: 546.562\n",
      "INFO:tensorflow:loss = 6.94803, step = 601 (0.183 sec)\n",
      "INFO:tensorflow:global_step/sec: 602.69\n",
      "INFO:tensorflow:loss = 7.68611, step = 701 (0.166 sec)\n",
      "INFO:tensorflow:global_step/sec: 568.44\n",
      "INFO:tensorflow:loss = 8.19221, step = 801 (0.176 sec)\n",
      "INFO:tensorflow:global_step/sec: 549.701\n",
      "INFO:tensorflow:loss = 5.9053, step = 901 (0.185 sec)\n",
      "INFO:tensorflow:Saving checkpoints for 1000 into C:\\Users\\DHRUV_~1\\AppData\\Local\\Temp\\tmpig115ssq\\model.ckpt.\n",
      "INFO:tensorflow:Loss for final step: 3.55211.\n"
     ]
    },
    {
     "data": {
      "text/plain": [
       "<tensorflow.python.estimator.canned.linear.LinearRegressor at 0x18af5f9e780>"
      ]
     },
     "execution_count": 93,
     "metadata": {},
     "output_type": "execute_result"
    }
   ],
   "source": [
    "estimator.train(input_fn=input_func,steps=1000)"
   ]
  },
  {
   "cell_type": "code",
   "execution_count": 94,
   "metadata": {},
   "outputs": [
    {
     "name": "stdout",
     "output_type": "stream",
     "text": [
      "INFO:tensorflow:Calling model_fn.\n",
      "INFO:tensorflow:Done calling model_fn.\n",
      "INFO:tensorflow:Starting evaluation at 2018-06-25-06:04:49\n",
      "INFO:tensorflow:Graph was finalized.\n",
      "INFO:tensorflow:Restoring parameters from C:\\Users\\DHRUV_~1\\AppData\\Local\\Temp\\tmpig115ssq\\model.ckpt-1000\n",
      "INFO:tensorflow:Running local_init_op.\n",
      "INFO:tensorflow:Done running local_init_op.\n",
      "INFO:tensorflow:Evaluation [100/1000]\n",
      "INFO:tensorflow:Evaluation [200/1000]\n",
      "INFO:tensorflow:Evaluation [300/1000]\n",
      "INFO:tensorflow:Evaluation [400/1000]\n",
      "INFO:tensorflow:Evaluation [500/1000]\n",
      "INFO:tensorflow:Evaluation [600/1000]\n",
      "INFO:tensorflow:Evaluation [700/1000]\n",
      "INFO:tensorflow:Evaluation [800/1000]\n",
      "INFO:tensorflow:Evaluation [900/1000]\n",
      "INFO:tensorflow:Evaluation [1000/1000]\n",
      "INFO:tensorflow:Finished evaluation at 2018-06-25-06:04:51\n",
      "INFO:tensorflow:Saving dict for global step 1000: average_loss = 1.05568, global_step = 1000, loss = 8.44545\n"
     ]
    }
   ],
   "source": [
    "train_metrics = estimator.evaluate(input_fn=train_input_func,steps=1000)"
   ]
  },
  {
   "cell_type": "code",
   "execution_count": 95,
   "metadata": {},
   "outputs": [
    {
     "name": "stdout",
     "output_type": "stream",
     "text": [
      "INFO:tensorflow:Calling model_fn.\n",
      "INFO:tensorflow:Done calling model_fn.\n",
      "INFO:tensorflow:Starting evaluation at 2018-06-25-06:06:03\n",
      "INFO:tensorflow:Graph was finalized.\n",
      "INFO:tensorflow:Restoring parameters from C:\\Users\\DHRUV_~1\\AppData\\Local\\Temp\\tmpig115ssq\\model.ckpt-1000\n",
      "INFO:tensorflow:Running local_init_op.\n",
      "INFO:tensorflow:Done running local_init_op.\n",
      "INFO:tensorflow:Evaluation [100/1000]\n",
      "INFO:tensorflow:Evaluation [200/1000]\n",
      "INFO:tensorflow:Evaluation [300/1000]\n",
      "INFO:tensorflow:Evaluation [400/1000]\n",
      "INFO:tensorflow:Evaluation [500/1000]\n",
      "INFO:tensorflow:Evaluation [600/1000]\n",
      "INFO:tensorflow:Evaluation [700/1000]\n",
      "INFO:tensorflow:Evaluation [800/1000]\n",
      "INFO:tensorflow:Evaluation [900/1000]\n",
      "INFO:tensorflow:Evaluation [1000/1000]\n",
      "INFO:tensorflow:Finished evaluation at 2018-06-25-06:06:05\n",
      "INFO:tensorflow:Saving dict for global step 1000: average_loss = 1.08255, global_step = 1000, loss = 8.66041\n"
     ]
    }
   ],
   "source": [
    "eval_metrics=estimator.evaluate(input_fn=eval_input_func,steps=1000)"
   ]
  },
  {
   "cell_type": "code",
   "execution_count": 96,
   "metadata": {},
   "outputs": [
    {
     "name": "stdout",
     "output_type": "stream",
     "text": [
      "TRAINING DATA METRICS\n",
      "{'average_loss': 1.0556817, 'loss': 8.4454536, 'global_step': 1000}\n"
     ]
    }
   ],
   "source": [
    "print('TRAINING DATA METRICS')\n",
    "print(train_metrics)"
   ]
  },
  {
   "cell_type": "code",
   "execution_count": 97,
   "metadata": {},
   "outputs": [
    {
     "name": "stdout",
     "output_type": "stream",
     "text": [
      "EVAL METRICS\n",
      "{'average_loss': 1.0825508, 'loss': 8.6604061, 'global_step': 1000}\n"
     ]
    }
   ],
   "source": [
    "print(\"EVAL METRICS\")\n",
    "print(eval_metrics)"
   ]
  },
  {
   "cell_type": "code",
   "execution_count": 98,
   "metadata": {
    "collapsed": true
   },
   "outputs": [],
   "source": [
    "brand_new_data=np.linspace(0,10,10)\n"
   ]
  },
  {
   "cell_type": "code",
   "execution_count": 103,
   "metadata": {},
   "outputs": [],
   "source": [
    "input_fn_predict = tf.estimator.inputs.numpy_input_fn({'x':brand_new_data},shuffle=False)"
   ]
  },
  {
   "cell_type": "code",
   "execution_count": 105,
   "metadata": {},
   "outputs": [
    {
     "name": "stdout",
     "output_type": "stream",
     "text": [
      "INFO:tensorflow:Calling model_fn.\n",
      "INFO:tensorflow:Done calling model_fn.\n",
      "INFO:tensorflow:Graph was finalized.\n",
      "INFO:tensorflow:Restoring parameters from C:\\Users\\DHRUV_~1\\AppData\\Local\\Temp\\tmpig115ssq\\model.ckpt-1000\n",
      "INFO:tensorflow:Running local_init_op.\n",
      "INFO:tensorflow:Done running local_init_op.\n"
     ]
    },
    {
     "data": {
      "text/plain": [
       "[{'predictions': array([ 4.42297983], dtype=float32)},\n",
       " {'predictions': array([ 5.08649588], dtype=float32)},\n",
       " {'predictions': array([ 5.7500124], dtype=float32)},\n",
       " {'predictions': array([ 6.41352844], dtype=float32)},\n",
       " {'predictions': array([ 7.07704449], dtype=float32)},\n",
       " {'predictions': array([ 7.74056053], dtype=float32)},\n",
       " {'predictions': array([ 8.40407658], dtype=float32)},\n",
       " {'predictions': array([ 9.06759262], dtype=float32)},\n",
       " {'predictions': array([ 9.73110962], dtype=float32)},\n",
       " {'predictions': array([ 10.39462566], dtype=float32)}]"
      ]
     },
     "execution_count": 105,
     "metadata": {},
     "output_type": "execute_result"
    }
   ],
   "source": [
    "list(estimator.predict(input_fn=input_fn_predict))"
   ]
  },
  {
   "cell_type": "code",
   "execution_count": 106,
   "metadata": {},
   "outputs": [
    {
     "name": "stdout",
     "output_type": "stream",
     "text": [
      "INFO:tensorflow:Calling model_fn.\n",
      "INFO:tensorflow:Done calling model_fn.\n",
      "INFO:tensorflow:Graph was finalized.\n",
      "INFO:tensorflow:Restoring parameters from C:\\Users\\DHRUV_~1\\AppData\\Local\\Temp\\tmpig115ssq\\model.ckpt-1000\n",
      "INFO:tensorflow:Running local_init_op.\n",
      "INFO:tensorflow:Done running local_init_op.\n"
     ]
    }
   ],
   "source": [
    "predictions=[]\n",
    "\n",
    "for pred in estimator.predict(input_fn=input_fn_predict):\n",
    "    predictions.append(pred['predictions'])"
   ]
  },
  {
   "cell_type": "code",
   "execution_count": 107,
   "metadata": {},
   "outputs": [
    {
     "data": {
      "text/plain": [
       "[array([ 4.42297983], dtype=float32),\n",
       " array([ 5.08649588], dtype=float32),\n",
       " array([ 5.7500124], dtype=float32),\n",
       " array([ 6.41352844], dtype=float32),\n",
       " array([ 7.07704449], dtype=float32),\n",
       " array([ 7.74056053], dtype=float32),\n",
       " array([ 8.40407658], dtype=float32),\n",
       " array([ 9.06759262], dtype=float32),\n",
       " array([ 9.73110962], dtype=float32),\n",
       " array([ 10.39462566], dtype=float32)]"
      ]
     },
     "execution_count": 107,
     "metadata": {},
     "output_type": "execute_result"
    }
   ],
   "source": [
    "predictions"
   ]
  },
  {
   "cell_type": "code",
   "execution_count": 111,
   "metadata": {},
   "outputs": [
    {
     "data": {
      "text/plain": [
       "[<matplotlib.lines.Line2D at 0x18afd3f6400>]"
      ]
     },
     "execution_count": 111,
     "metadata": {},
     "output_type": "execute_result"
    },
    {
     "data": {
      "image/png": "[encoded data removed]",
      "text/plain": [
       "<matplotlib.figure.Figure at 0x18afea707b8>"
      ]
     },
     "metadata": {},
     "output_type": "display_data"
    }
   ],
   "source": [
    "my_data.sample(n=250).plot(kind='scatter',x=\"X_Data\",y=\"Y\")\n",
    "plt.plot(brand_new_data,predictions,'r')"
   ]
  },
  {
   "cell_type": "code",
   "execution_count": null,
   "metadata": {},
   "outputs": [],
   "source": [
    "\n"
   ]
  },
  {
   "cell_type": "code",
   "execution_count": null,
   "metadata": {
    "collapsed": true
   },
   "outputs": [],
   "source": []
  }
 ],
 "metadata": {
  "kernelspec": {
   "display_name": "Python 3",
   "language": "python",
   "name": "python3"
  },
  "language_info": {
   "codemirror_mode": {
    "name": "ipython",
    "version": 3
   },
   "file_extension": ".py",
   "mimetype": "text/x-python",
   "name": "python",
   "nbconvert_exporter": "python",
   "pygments_lexer": "ipython3",
   "version": "3.6.3"
  }
 },
 "nbformat": 4,
 "nbformat_minor": 2
}
